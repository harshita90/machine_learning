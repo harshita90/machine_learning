{
 "cells": [
  {
   "cell_type": "code",
   "execution_count": 1,
   "metadata": {},
   "outputs": [
    {
     "name": "stdout",
     "output_type": "stream",
     "text": [
      "[[0.52103744 0.0226581  0.54598853 ... 0.91202749 0.59846245 0.41886396]\n",
      " [0.64314449 0.27257355 0.61578329 ... 0.63917526 0.23358959 0.22287813]\n",
      " [0.60149557 0.3902604  0.59574321 ... 0.83505155 0.40370589 0.21343303]\n",
      " ...\n",
      " [0.45525108 0.62123774 0.44578813 ... 0.48728522 0.12872068 0.1519087 ]\n",
      " [0.64456434 0.66351031 0.66553797 ... 0.91065292 0.49714173 0.45231536]\n",
      " [0.03686876 0.50152181 0.02853984 ... 0.         0.25744136 0.10068215]]\n"
     ]
    }
   ],
   "source": [
    "#Feature Extraction and Scaling\n",
    "import numpy as np\n",
    "import pandas as pd\n",
    "data = pd.read_csv('wdbc.csv')\n",
    "y = np.array(data['Type'])\n",
    "features = data.columns.to_list()\n",
    "features.remove('ID')\n",
    "features.remove('Type')\n",
    "x = np.array(data[features])\n",
    "xs = x.transpose()\n",
    "xsc = np.zeros(np.shape(xs))\n",
    "a, b = np.shape(xs)\n",
    "i = 0\n",
    "while i<a:\n",
    " z = np.array(xs[i,:])\n",
    " mini = np.min(z)\n",
    " maxi = np.max(z)\n",
    " j = 0\n",
    " while j<b:\n",
    "  xsc[i,j] = (z[j] - mini)/(maxi - mini)\n",
    "  j = j + 1\n",
    " i = i + 1\n",
    "xs = xsc.transpose()\n",
    "print(xs)"
   ]
  },
  {
   "cell_type": "code",
   "execution_count": 3,
   "metadata": {},
   "outputs": [
    {
     "name": "stdout",
     "output_type": "stream",
     "text": [
      "(455,)\n"
     ]
    }
   ],
   "source": [
    "#Data Partitioning\n",
    "from sklearn.model_selection import train_test_split\n",
    "x_train,x_test,y_train,y_test = train_test_split(xs,y,test_size=0.2,random_state=0)\n",
    "print(y_train.shape)"
   ]
  },
  {
   "cell_type": "code",
   "execution_count": 3,
   "metadata": {},
   "outputs": [
    {
     "data": {
      "text/plain": [
       "SGDClassifier(max_iter=50, random_state=42)"
      ]
     },
     "execution_count": 3,
     "metadata": {},
     "output_type": "execute_result"
    }
   ],
   "source": [
    "#Train using SGDClassifier\n",
    "from sklearn.linear_model import SGDClassifier\n",
    "y_train = (y_train=='M')\n",
    "y_test = (y_test=='M')\n",
    "obj = SGDClassifier(max_iter=50,random_state=42)\n",
    "obj.fit(x_train,y_train)"
   ]
  },
  {
   "cell_type": "code",
   "execution_count": 4,
   "metadata": {},
   "outputs": [
    {
     "name": "stdout",
     "output_type": "stream",
     "text": [
      "[[63  4]\n",
      " [ 1 46]]\n",
      "0.956140350877193\n",
      "0.984375\n",
      "0.9402985074626866\n"
     ]
    }
   ],
   "source": [
    "#Accuracy, Precision, Recall and Confusion Matrix\n",
    "from sklearn.metrics import confusion_matrix\n",
    "from sklearn.metrics import accuracy_score\n",
    "from sklearn.metrics import precision_recall_curve\n",
    "y_pred = obj.predict(x_test)\n",
    "cm = np.array(confusion_matrix(y_test,y_pred))\n",
    "tp = cm[0,0]\n",
    "fn = cm[0,1]\n",
    "fp = cm[1,0]\n",
    "tn = cm[1,1]\n",
    "accuracy = (tp+tn)/(tp+fp+fn+tn)\n",
    "precision = tp/(tp+fp)\n",
    "recall = tp/(tp+fn)\n",
    "print(cm)\n",
    "print(accuracy)\n",
    "print(precision)\n",
    "print(recall)"
   ]
  },
  {
   "cell_type": "code",
   "execution_count": 5,
   "metadata": {},
   "outputs": [
    {
     "name": "stdout",
     "output_type": "stream",
     "text": [
      "[0.97368421 0.94078947 0.99337748]\n",
      "[0.94736842 0.92105263 0.84210526]\n",
      "0.9692307692307692\n",
      "0.9035087719298246\n"
     ]
    }
   ],
   "source": [
    "#Cross Validation Results\n",
    "from sklearn.model_selection import cross_val_score\n",
    "from sklearn.model_selection import cross_val_predict\n",
    "print(cross_val_score(obj,x_train,y_train,cv=3,scoring='accuracy'))\n",
    "print(cross_val_score(obj,x_test,y_test,cv=3,scoring='accuracy'))\n",
    "y1 = cross_val_predict(obj,x_test,y_test,cv=3)\n",
    "y2 = cross_val_predict(obj,x_train,y_train,cv=3)\n",
    "print(accuracy_score(y_train,y2))\n",
    "print(accuracy_score(y_test,y1))"
   ]
  },
  {
   "cell_type": "code",
   "execution_count": 6,
   "metadata": {},
   "outputs": [],
   "source": [
    "#ROC Curve\n",
    "from sklearn.metrics import roc_curve\n",
    "fpr,tpr,threshold = roc_curve(y_test,y1)"
   ]
  },
  {
   "cell_type": "code",
   "execution_count": 7,
   "metadata": {},
   "outputs": [
    {
     "data": {
      "image/png": "[encoded data removed]",
      "text/plain": [
       "<Figure size 432x288 with 1 Axes>"
      ]
     },
     "metadata": {
      "needs_background": "light"
     },
     "output_type": "display_data"
    }
   ],
   "source": [
    "import matplotlib.pyplot as plt\n",
    "plt.plot(fpr, tpr, linewidth=2, label=None)\n",
    "plt.plot([0, 1], [0, 1], 'k--')\n",
    "plt.axis([0, 1, 0, 1])\n",
    "plt.xlabel('False Positive Rate', fontsize=16)\n",
    "plt.ylabel('True Positive Rate', fontsize=16)\n",
    "plt.show()"
   ]
  }
 ],
 "metadata": {
  "kernelspec": {
   "display_name": "Python 3",
   "language": "python",
   "name": "python3"
  },
  "language_info": {
   "codemirror_mode": {
    "name": "ipython",
    "version": 3
   },
   "file_extension": ".py",
   "mimetype": "text/x-python",
   "name": "python",
   "nbconvert_exporter": "python",
   "pygments_lexer": "ipython3",
   "version": "3.8.5"
  }
 },
 "nbformat": 4,
 "nbformat_minor": 4
}
